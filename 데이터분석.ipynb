{
  "nbformat": 4,
  "nbformat_minor": 0,
  "metadata": {
    "colab": {
      "provenance": [],
      "authorship_tag": "ABX9TyMZ2JI2jZaBtMfxdWBPhQoT",
      "include_colab_link": true
    },
    "kernelspec": {
      "name": "python3",
      "display_name": "Python 3"
    },
    "language_info": {
      "name": "python"
    }
  },
  "cells": [
    {
      "cell_type": "markdown",
      "metadata": {
        "id": "view-in-github",
        "colab_type": "text"
      },
      "source": [
        "<a href=\"https://colab.research.google.com/github/cksdyd3786/cksdyd.github.io/blob/main/%EB%8D%B0%EC%9D%B4%ED%84%B0%EB%B6%84%EC%84%9D.ipynb\" target=\"_parent\"><img src=\"https://colab.research.google.com/assets/colab-badge.svg\" alt=\"Open In Colab\"/></a>"
      ]
    },
    {
      "cell_type": "code",
      "execution_count": 4,
      "metadata": {
        "colab": {
          "base_uri": "https://localhost:8080/"
        },
        "id": "ZbQayD1TK7u_",
        "outputId": "1ff48eee-5161-40e1-b601-60ffe7f0d368"
      },
      "outputs": [
        {
          "output_type": "stream",
          "name": "stdout",
          "text": [
            "   연번                     관리단체  행정동       설치장소(도로명)         위도          경도\n",
            "0   1  (사)부산광역시 신체장애인복지회 해운대지부  우1동  우동3로 11번길 36 앞  35.169958  129.162632\n",
            "1   2  (사)부산광역시 신체장애인복지회 해운대지부  우1동  우동1로 117-5 건너편  35.170584  129.154819\n",
            "2   3  (사)부산광역시 신체장애인복지회 해운대지부  우1동       우동1로 28 앞  35.164023  129.156791\n",
            "3   4  (사)부산광역시 신체장애인복지회 해운대지부  우1동       우동1로 37 앞  35.164795  129.156603\n",
            "<class 'pandas.core.frame.DataFrame'>\n",
            "RangeIndex: 4 entries, 0 to 3\n",
            "Data columns (total 6 columns):\n",
            " #   Column     Non-Null Count  Dtype  \n",
            "---  ------     --------------  -----  \n",
            " 0   연번         4 non-null      int64  \n",
            " 1   관리단체       4 non-null      object \n",
            " 2   행정동        4 non-null      object \n",
            " 3   설치장소(도로명)  4 non-null      object \n",
            " 4   위도         4 non-null      float64\n",
            " 5   경도         4 non-null      float64\n",
            "dtypes: float64(2), int64(1), object(3)\n",
            "memory usage: 324.0+ bytes\n",
            "None\n"
          ]
        }
      ],
      "source": [
        "# prompt: /content/부산광역시 해운대구_의류수거함 위치_20250116.csv\n",
        "\n",
        "import pandas as pd\n",
        "\n",
        "# Assuming the file is in the /content directory\n",
        "file_path = '/content/부산광역시 해운대구_의류수거함 위치_20250116.csv'\n",
        "\n",
        "try:\n",
        "    # Load the CSV file into a pandas DataFrame\n",
        "    df = pd.read_csv(file_path, encoding='cp949')  # Try cp949 encoding first\n",
        "\n",
        "    # Print some information about the DataFrame\n",
        "    print(df.head())\n",
        "    print(df.info())\n",
        "\n",
        "except UnicodeDecodeError:\n",
        "    try:\n",
        "        # If cp949 fails, try utf-8 encoding\n",
        "        df = pd.read_csv(file_path, encoding='utf-8')\n",
        "        print(df.head())\n",
        "        print(df.info())\n",
        "\n",
        "    except UnicodeDecodeError:\n",
        "        # Handle other potential encoding issues or file not found\n",
        "        print(f\"Error: Could not decode the file using cp949 or utf-8. Please check the file's encoding.\")\n",
        "    except FileNotFoundError:\n",
        "        print(f\"Error: File not found at {file_path}\")\n",
        "except FileNotFoundError:\n",
        "    print(f\"Error: File not found at {file_path}\")\n",
        "except pd.errors.ParserError:\n",
        "    print(f\"Error: Could not parse the file. Please check the file's format.\")\n",
        "\n",
        "\n"
      ]
    }
  ]
}