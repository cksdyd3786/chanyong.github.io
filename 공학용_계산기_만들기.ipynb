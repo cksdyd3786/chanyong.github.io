{
  "nbformat": 4,
  "nbformat_minor": 0,
  "metadata": {
    "colab": {
      "provenance": [],
      "authorship_tag": "ABX9TyNYzcfs1BoF8DIN1Pgu54pR",
      "include_colab_link": true
    },
    "kernelspec": {
      "name": "python3",
      "display_name": "Python 3"
    },
    "language_info": {
      "name": "python"
    }
  },
  "cells": [
    {
      "cell_type": "markdown",
      "metadata": {
        "id": "view-in-github",
        "colab_type": "text"
      },
      "source": [
        "<a href=\"https://colab.research.google.com/github/cksdyd3786/cksdyd.github.io/blob/main/%EA%B3%B5%ED%95%99%EC%9A%A9_%EA%B3%84%EC%82%B0%EA%B8%B0_%EB%A7%8C%EB%93%A4%EA%B8%B0.ipynb\" target=\"_parent\"><img src=\"https://colab.research.google.com/assets/colab-badge.svg\" alt=\"Open In Colab\"/></a>"
      ]
    },
    {
      "cell_type": "markdown",
      "source": [
        "#공학용 계산기 개발의 필요성\n",
        "본 프로젝트는 많은 학생들이 공학용 계산기를 구매해야하는 문제를 해결하기 위해 만들었습니다. $x^6$을 개발하는게 어렵습니다.\n"
      ],
      "metadata": {
        "id": "biF6a-qEE1Wt"
      }
    },
    {
      "cell_type": "markdown",
      "source": [
        "# **지수값 구하기**"
      ],
      "metadata": {
        "id": "O33VXiISF-fl"
      }
    },
    {
      "cell_type": "code",
      "source": [
        "x6\n",
        "\n",
        "if x6 == 2000000:\n",
        "    print(\"너무 큰 수를 입력했습니다.\")"
      ],
      "metadata": {
        "id": "OvFdHCgqGHYG"
      },
      "execution_count": 12,
      "outputs": []
    },
    {
      "cell_type": "markdown",
      "source": [
        "#초기값 입력\n"
      ],
      "metadata": {
        "id": "KnHnXvUuI9XP"
      }
    },
    {
      "cell_type": "code",
      "source": [
        "# @title Example form fields\n",
        "# @markdown Forms support many types of fields.\n",
        "\n",
        "slider_value = 142  # @param {type: \"slider\", min: 100, max: 200}\n",
        "x = 800\n",
        "y = 102\n",
        "date = '2010-11-05'  # @param {type: \"date\"}\n",
        "pick_me = \"monday\"  # @param ['monday', 'tuesday', 'wednesday', 'thursday']\n",
        "select_or_input = \"apples\" # @param [\"apples\", \"bananas\", \"oranges\"] {allow-input: true}\n",
        "# @markdown ---\n"
      ],
      "metadata": {
        "id": "xjGx1C21JBx2"
      },
      "execution_count": 10,
      "outputs": []
    }
  ]
}